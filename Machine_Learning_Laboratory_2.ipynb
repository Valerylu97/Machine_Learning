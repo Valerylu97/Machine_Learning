{
  "nbformat": 4,
  "nbformat_minor": 0,
  "metadata": {
    "colab": {
      "name": "Machine Learning Laboratory 2.ipynb",
      "provenance": [],
      "collapsed_sections": [],
      "authorship_tag": "ABX9TyOtrct3zNHsjEbN7JEGUzpJ",
      "include_colab_link": true
    },
    "kernelspec": {
      "name": "python3",
      "display_name": "Python 3"
    },
    "language_info": {
      "name": "python"
    }
  },
  "cells": [
    {
      "cell_type": "markdown",
      "metadata": {
        "id": "view-in-github",
        "colab_type": "text"
      },
      "source": [
        "<a href=\"https://colab.research.google.com/github/Valerylu97/Machine_Learning/blob/main/Machine_Learning_Laboratory_2.ipynb\" target=\"_parent\"><img src=\"https://colab.research.google.com/assets/colab-badge.svg\" alt=\"Open In Colab\"/></a>"
      ]
    },
    {
      "cell_type": "markdown",
      "metadata": {
        "id": "yZ2riC7hRIrh"
      },
      "source": [
        "# Importing libraries"
      ]
    },
    {
      "cell_type": "code",
      "metadata": {
        "id": "MztFbn7FQXhm"
      },
      "source": [
        "import numpy as np\n",
        "from scipy import ndimage\n",
        "from scipy.cluster import hierarchy\n",
        "from scipy.spatial import distance_matrix\n",
        "from matplotlib import pyplot as plt\n",
        "from sklearn.cluster import AgglomerativeClustering\n",
        "import sklearn"
      ],
      "execution_count": 1,
      "outputs": []
    },
    {
      "cell_type": "code",
      "metadata": {
        "colab": {
          "base_uri": "https://localhost:8080/"
        },
        "id": "p7VNxXMzUo04",
        "outputId": "2cdd4860-ab42-4ad3-80d8-62997e348cdf"
      },
      "source": [
        "!pip install -U scikit-learn"
      ],
      "execution_count": 2,
      "outputs": [
        {
          "output_type": "stream",
          "text": [
            "Requirement already satisfied: scikit-learn in /usr/local/lib/python3.7/dist-packages (0.24.2)\n",
            "Requirement already satisfied: scipy>=0.19.1 in /usr/local/lib/python3.7/dist-packages (from scikit-learn) (1.4.1)\n",
            "Requirement already satisfied: numpy>=1.13.3 in /usr/local/lib/python3.7/dist-packages (from scikit-learn) (1.19.5)\n",
            "Requirement already satisfied: threadpoolctl>=2.0.0 in /usr/local/lib/python3.7/dist-packages (from scikit-learn) (2.2.0)\n",
            "Requirement already satisfied: joblib>=0.11 in /usr/local/lib/python3.7/dist-packages (from scikit-learn) (1.0.1)\n"
          ],
          "name": "stdout"
        }
      ]
    },
    {
      "cell_type": "markdown",
      "metadata": {
        "id": "lBlqC62NRoeq"
      },
      "source": [
        "# Generating a random dataset"
      ]
    },
    {
      "cell_type": "code",
      "metadata": {
        "colab": {
          "base_uri": "https://localhost:8080/"
        },
        "id": "TTNdckgURrvi",
        "outputId": "c2af1fc1-bb53-4127-a2f3-d85504789fa4"
      },
      "source": [
        "from sklearn.datasets import make_blobs\n",
        "X, y = make_blobs(n_samples=50, centers=4)\n",
        "#X: The generated samples\n",
        "#y: The integer labels for clurter membership of each sample\n",
        "#centers: The number of center to generate\n",
        "print(X)\n",
        "print(y)"
      ],
      "execution_count": 3,
      "outputs": [
        {
          "output_type": "stream",
          "text": [
            "[[ -4.74373113   8.26160045]\n",
            " [  4.12952868  -1.01964612]\n",
            " [  8.41612031   7.40692165]\n",
            " [ -6.15071972   9.34766988]\n",
            " [  8.60916621   6.19155484]\n",
            " [-11.09878391  -3.63862133]\n",
            " [ -9.67395804  -4.51049968]\n",
            " [  3.35721018  -1.55591429]\n",
            " [ -9.47136911  -3.21737275]\n",
            " [ -6.64000191   9.77664972]\n",
            " [ -4.67726493   6.44910386]\n",
            " [ -9.65556718  -2.50522786]\n",
            " [  3.35418423  -1.89908849]\n",
            " [  4.24839465   0.06714761]\n",
            " [ -3.89254253   7.99914163]\n",
            " [ -9.19686531  -4.84530591]\n",
            " [ -9.43211135  -3.80602679]\n",
            " [ 10.51537665   8.50240786]\n",
            " [  9.91583372   5.377437  ]\n",
            " [  8.32454632   4.91481117]\n",
            " [ -7.42951893   8.53867355]\n",
            " [ -7.52060923   7.45039465]\n",
            " [ -5.22645479   8.41641964]\n",
            " [  8.85650962   6.46615172]\n",
            " [-10.35406709  -4.766048  ]\n",
            " [  5.75064797  -1.28475266]\n",
            " [  9.5342233    6.19519618]\n",
            " [  2.45523095  -2.06482997]\n",
            " [-10.64450588  -2.89307812]\n",
            " [ -6.24824535   9.13188077]\n",
            " [ -9.29035981  -2.05327249]\n",
            " [  4.74377083  -1.9383749 ]\n",
            " [  1.43252152  -3.05483208]\n",
            " [  7.56712569   6.70125805]\n",
            " [  8.93624066   7.53281826]\n",
            " [  4.95925182  -0.34701039]\n",
            " [  5.01964476  -2.97853241]\n",
            " [-10.32661499  -4.67840982]\n",
            " [ -6.27361833   8.79118709]\n",
            " [  2.77015489  -2.0747157 ]\n",
            " [  9.03739044   7.52367426]\n",
            " [  4.33571231  -1.76626706]\n",
            " [  3.95234652  -2.08194957]\n",
            " [ -6.19095864   9.65138038]\n",
            " [ 10.13584095   5.97781383]\n",
            " [  8.72085755   6.7775522 ]\n",
            " [ -8.5271585   -2.43356602]\n",
            " [ -8.61543905  -3.20451109]\n",
            " [ -4.73652414   7.57366817]\n",
            " [ -9.18525486  -3.16190699]]\n",
            "[3 0 2 3 2 1 1 0 1 3 3 1 0 0 3 1 1 2 2 2 3 3 3 2 1 0 2 0 1 3 1 0 0 2 2 0 0\n",
            " 1 3 0 2 0 0 3 2 2 1 1 3 1]\n"
          ],
          "name": "stdout"
        }
      ]
    },
    {
      "cell_type": "markdown",
      "metadata": {
        "id": "coziF_T2SJWk"
      },
      "source": [
        "# Visualize the blobs"
      ]
    },
    {
      "cell_type": "code",
      "metadata": {
        "colab": {
          "base_uri": "https://localhost:8080/",
          "height": 282
        },
        "id": "krRswnbgSIvG",
        "outputId": "bd04a784-9ea1-4e03-9a08-b93f6e2308df"
      },
      "source": [
        "plt.scatter(X[:,0], X[:,1])"
      ],
      "execution_count": 4,
      "outputs": [
        {
          "output_type": "execute_result",
          "data": {
            "text/plain": [
              "<matplotlib.collections.PathCollection at 0x7fef42db3210>"
            ]
          },
          "metadata": {
            "tags": []
          },
          "execution_count": 4
        },
        {
          "output_type": "display_data",
          "data": {
            "image/png": "[encoded data removed]",
            "text/plain": [
              "<Figure size 432x288 with 1 Axes>"
            ]
          },
          "metadata": {
            "tags": [],
            "needs_background": "light"
          }
        }
      ]
    },
    {
      "cell_type": "markdown",
      "metadata": {
        "id": "SpjBaNEhSaDZ"
      },
      "source": [
        "# Visualize the data set"
      ]
    },
    {
      "cell_type": "code",
      "metadata": {
        "id": "tutZj9f3Sc4T"
      },
      "source": [
        "linkage_method = 'average'\n",
        "#complete\n",
        "#single\n",
        "#average\n",
        "hac = AgglomerativeClustering(n_clusters=4,linkage=linkage_method).fit(X)"
      ],
      "execution_count": 5,
      "outputs": []
    },
    {
      "cell_type": "markdown",
      "metadata": {
        "id": "XhAKeuOmSr8x"
      },
      "source": [
        "# Identify the clusters"
      ]
    },
    {
      "cell_type": "code",
      "metadata": {
        "colab": {
          "base_uri": "https://localhost:8080/",
          "height": 252
        },
        "id": "txJ95FDFSu5Y",
        "outputId": "fa6d13be-e4a1-457a-8ab6-71440e5d2460"
      },
      "source": [
        "# Create a figure of size 6 inches by 4 inches.\n",
        "plt.figure(figsize=(6,4))\n",
        "\n",
        "# These two lines of code are used to scale the data points down,\n",
        "# Or else the data points will be scattered very far apart.\n",
        "\n",
        "#Create a minimum and macimum range of X.\n",
        "x_min, x_max = np.min(X, axis=0), np.max(X, axis=0)\n",
        "\n",
        "#Get the averahe distance for X.\n",
        "X = (X-x_min)/(x_max-x_min)\n",
        "\n",
        "#This loop displays all of the datapoints.\n",
        "for i in range(X.shape[0]):\n",
        "  # Replace the data points with their respective cluster value\n",
        "  # (ex. 0) and is color codded with a colormap (plt.cm.spectral)\n",
        "  plt.text(X[i,0],X[i,1], str(y[i]),\n",
        "           color=plt.cm.nipy_spectral(hac.labels_[i] / 10.),\n",
        "           fontdict={'weight':'bold','size':9})\n",
        "\n",
        "\n",
        "#Remove the x ticks, y ticks, x and y axis\n",
        "plt.xticks([])\n",
        "plt.yticks([])\n",
        "#plt.axis('off')\n",
        "\n",
        "#Display the plot of the original data before clustering\n",
        "plt.scatter(X[:,0], X[:,1], marker='.')\n",
        "#Display the plot\n",
        "plt.show()"
      ],
      "execution_count": 6,
      "outputs": [
        {
          "output_type": "display_data",
          "data": {
            "image/png": "[encoded data removed]",
            "text/plain": [
              "<Figure size 432x288 with 1 Axes>"
            ]
          },
          "metadata": {
            "tags": []
          }
        }
      ]
    },
    {
      "cell_type": "markdown",
      "metadata": {
        "id": "eM0mM2kDXuGv"
      },
      "source": [
        "# Calculate the distance matrix"
      ]
    },
    {
      "cell_type": "code",
      "metadata": {
        "colab": {
          "base_uri": "https://localhost:8080/"
        },
        "id": "VNfXuCXTXtG-",
        "outputId": "02cad834-0f23-49d9-fb62-ff4ac7a3b647"
      },
      "source": [
        "dist_matrix = distance_matrix(X,X)\n",
        "dist_matrix"
      ],
      "execution_count": 7,
      "outputs": [
        {
          "output_type": "execute_result",
          "data": {
            "text/plain": [
              "array([[0.        , 0.7559358 , 0.61165256, ..., 0.80436987, 0.04704908,\n",
              "        0.80783009],\n",
              "       [0.7559358 , 0.        , 0.60946589, ..., 0.60829618, 0.716695  ,\n",
              "        0.63320407],\n",
              "       [0.61165256, 0.60946589, 0.        , ..., 1.07125307, 0.60862664,\n",
              "        1.08885481],\n",
              "       ...,\n",
              "       [0.80436987, 0.60829618, 1.07125307, ..., 0.        , 0.75865459,\n",
              "        0.0265236 ],\n",
              "       [0.04704908, 0.716695  , 0.60862664, ..., 0.75865459, 0.        ,\n",
              "        0.76251366],\n",
              "       [0.80783009, 0.63320407, 1.08885481, ..., 0.0265236 , 0.76251366,\n",
              "        0.        ]])"
            ]
          },
          "metadata": {
            "tags": []
          },
          "execution_count": 7
        }
      ]
    },
    {
      "cell_type": "markdown",
      "metadata": {
        "id": "sXmSa18pX4Ol"
      },
      "source": [
        "# Question 1\n",
        "### What is the structure of this matrix?"
      ]
    },
    {
      "cell_type": "markdown",
      "metadata": {
        "id": "04-7VK7BhO-q"
      },
      "source": [
        "**Answer:**\n",
        "\n",
        "The distance matrix is a symmetric matrix with zeros in its diagonal, this matrix is composed by the distances between points, where we have the same points for the rows as for the columns. For this reason the diagonal has a distance of zero since the distance from the point to the same point is zero."
      ]
    },
    {
      "cell_type": "markdown",
      "metadata": {
        "id": "L0mpA3hphWAL"
      },
      "source": [
        "# Visualize and discuss the dendrogram"
      ]
    },
    {
      "cell_type": "code",
      "metadata": {
        "colab": {
          "base_uri": "https://localhost:8080/",
          "height": 320
        },
        "id": "38hhTDzGhUX_",
        "outputId": "1df7f460-572e-456c-d6d2-041c42c84eb1"
      },
      "source": [
        "Z = hierarchy.linkage(dist_matrix, method=linkage_method)\n",
        "dendro = hierarchy.dendrogram(Z)"
      ],
      "execution_count": 8,
      "outputs": [
        {
          "output_type": "stream",
          "text": [
            "/usr/local/lib/python3.7/dist-packages/ipykernel_launcher.py:1: ClusterWarning: scipy.cluster: The symmetric non-negative hollow observation matrix looks suspiciously like an uncondensed distance matrix\n",
            "  \"\"\"Entry point for launching an IPython kernel.\n"
          ],
          "name": "stderr"
        },
        {
          "output_type": "display_data",
          "data": {
            "image/png": "[encoded data removed]",
            "text/plain": [
              "<Figure size 432x288 with 1 Axes>"
            ]
          },
          "metadata": {
            "tags": [],
            "needs_background": "light"
          }
        }
      ]
    },
    {
      "cell_type": "markdown",
      "metadata": {
        "id": "kUOiTF9SiRAG"
      },
      "source": [
        "# Question 2\n",
        "### How many clusters can you identify in the dendrogram, is it easy to see?"
      ]
    },
    {
      "cell_type": "markdown",
      "metadata": {
        "id": "nUt9uoVEuui-"
      },
      "source": [
        "**Answer:**\n",
        "If we cut the dendrogram in the level 4, we have a 2 clusters, it is easy to see.\n",
        "However, If we cut the dendrogram in the level 1 we have 4 clusters  "
      ]
    },
    {
      "cell_type": "markdown",
      "metadata": {
        "id": "hvEqC7WviaMl"
      },
      "source": [
        "# Question 3\n",
        "### Explain the organization of the clusters?"
      ]
    },
    {
      "cell_type": "markdown",
      "metadata": {
        "id": "mzcBij3EGNDP"
      },
      "source": [
        "**Answer:**\n",
        "\n",
        "Clusters are organized by relating distances between points and if we visualize the dendrogram and cut it into different levels we take each connected component as clusters."
      ]
    },
    {
      "cell_type": "markdown",
      "metadata": {
        "id": "LfpSNxRiigk7"
      },
      "source": [
        "# Question 4\n",
        "### Use the complete, single, and average method, do you see any difference between them? Discuss your answer"
      ]
    },
    {
      "cell_type": "markdown",
      "metadata": {
        "id": "9bwEj4oVLh5J"
      },
      "source": [
        "### Single"
      ]
    },
    {
      "cell_type": "code",
      "metadata": {
        "id": "SMwhzNepLgd4"
      },
      "source": [
        "linkage_method = 'single'\n",
        "#complete\n",
        "#single\n",
        "#average\n",
        "hac = AgglomerativeClustering(n_clusters=4,linkage=linkage_method).fit(X)"
      ],
      "execution_count": 9,
      "outputs": []
    },
    {
      "cell_type": "code",
      "metadata": {
        "colab": {
          "base_uri": "https://localhost:8080/",
          "height": 252
        },
        "id": "4n9-BFfTLrtX",
        "outputId": "55c46053-8f67-4346-94c6-848cf9b1ce66"
      },
      "source": [
        "# Create a figure of size 6 inches by 4 inches.\n",
        "plt.figure(figsize=(6,4))\n",
        "\n",
        "# These two lines of code are used to scale the data points down,\n",
        "# Or else the data points will be scattered very far apart.\n",
        "\n",
        "#Create a minimum and macimum range of X.\n",
        "x_min, x_max = np.min(X, axis=0), np.max(X, axis=0)\n",
        "\n",
        "#Get the averahe distance for X.\n",
        "X = (X-x_min)/(x_max-x_min)\n",
        "\n",
        "#This loop displays all of the datapoints.\n",
        "for i in range(X.shape[0]):\n",
        "  # Replace the data points with their respective cluster value\n",
        "  # (ex. 0) and is color codded with a colormap (plt.cm.spectral)\n",
        "  plt.text(X[i,0],X[i,1], str(y[i]),\n",
        "           color=plt.cm.nipy_spectral(hac.labels_[i] / 10.),\n",
        "           fontdict={'weight':'bold','size':9})\n",
        "\n",
        "\n",
        "#Remove the x ticks, y ticks, x and y axis\n",
        "plt.xticks([])\n",
        "plt.yticks([])\n",
        "#plt.axis('off')\n",
        "\n",
        "#Display the plot of the original data before clustering\n",
        "plt.scatter(X[:,0], X[:,1], marker='.')\n",
        "#Display the plot\n",
        "plt.show()"
      ],
      "execution_count": 10,
      "outputs": [
        {
          "output_type": "display_data",
          "data": {
            "image/png": "[encoded data removed]",
            "text/plain": [
              "<Figure size 432x288 with 1 Axes>"
            ]
          },
          "metadata": {
            "tags": []
          }
        }
      ]
    },
    {
      "cell_type": "code",
      "metadata": {
        "colab": {
          "base_uri": "https://localhost:8080/"
        },
        "id": "oH06J5YDMxe5",
        "outputId": "2a4534f2-83b1-4677-a967-f5d4148f30cd"
      },
      "source": [
        "dist_matrix = distance_matrix(X,X)\n",
        "dist_matrix"
      ],
      "execution_count": 11,
      "outputs": [
        {
          "output_type": "execute_result",
          "data": {
            "text/plain": [
              "array([[0.        , 0.7559358 , 0.61165256, ..., 0.80436987, 0.04704908,\n",
              "        0.80783009],\n",
              "       [0.7559358 , 0.        , 0.60946589, ..., 0.60829618, 0.716695  ,\n",
              "        0.63320407],\n",
              "       [0.61165256, 0.60946589, 0.        , ..., 1.07125307, 0.60862664,\n",
              "        1.08885481],\n",
              "       ...,\n",
              "       [0.80436987, 0.60829618, 1.07125307, ..., 0.        , 0.75865459,\n",
              "        0.0265236 ],\n",
              "       [0.04704908, 0.716695  , 0.60862664, ..., 0.75865459, 0.        ,\n",
              "        0.76251366],\n",
              "       [0.80783009, 0.63320407, 1.08885481, ..., 0.0265236 , 0.76251366,\n",
              "        0.        ]])"
            ]
          },
          "metadata": {
            "tags": []
          },
          "execution_count": 11
        }
      ]
    },
    {
      "cell_type": "code",
      "metadata": {
        "colab": {
          "base_uri": "https://localhost:8080/",
          "height": 320
        },
        "id": "AGeD4i3cM23g",
        "outputId": "c9c1442b-0777-491a-b2b7-48c987627bfc"
      },
      "source": [
        "Z = hierarchy.linkage(dist_matrix, method=linkage_method)\n",
        "dendro = hierarchy.dendrogram(Z)"
      ],
      "execution_count": 12,
      "outputs": [
        {
          "output_type": "stream",
          "text": [
            "/usr/local/lib/python3.7/dist-packages/ipykernel_launcher.py:1: ClusterWarning: scipy.cluster: The symmetric non-negative hollow observation matrix looks suspiciously like an uncondensed distance matrix\n",
            "  \"\"\"Entry point for launching an IPython kernel.\n"
          ],
          "name": "stderr"
        },
        {
          "output_type": "display_data",
          "data": {
            "image/png": "[encoded data removed]",
            "text/plain": [
              "<Figure size 432x288 with 1 Axes>"
            ]
          },
          "metadata": {
            "tags": [],
            "needs_background": "light"
          }
        }
      ]
    },
    {
      "cell_type": "markdown",
      "metadata": {
        "id": "uoP_Ad0tL1VS"
      },
      "source": [
        "### Complete"
      ]
    },
    {
      "cell_type": "code",
      "metadata": {
        "id": "uxJA5j0QL5yK"
      },
      "source": [
        "linkage_method = 'complete'\n",
        "#complete\n",
        "#single\n",
        "#average\n",
        "hac = AgglomerativeClustering(n_clusters=4,linkage=linkage_method).fit(X)"
      ],
      "execution_count": 13,
      "outputs": []
    },
    {
      "cell_type": "code",
      "metadata": {
        "colab": {
          "base_uri": "https://localhost:8080/",
          "height": 252
        },
        "id": "X8leM5RKL3LL",
        "outputId": "512b433f-2d6e-44d0-d5bb-721530a92f4b"
      },
      "source": [
        "# Create a figure of size 6 inches by 4 inches.\n",
        "plt.figure(figsize=(6,4))\n",
        "\n",
        "# These two lines of code are used to scale the data points down,\n",
        "# Or else the data points will be scattered very far apart.\n",
        "\n",
        "#Create a minimum and macimum range of X.\n",
        "x_min, x_max = np.min(X, axis=0), np.max(X, axis=0)\n",
        "\n",
        "#Get the averahe distance for X.\n",
        "X = (X-x_min)/(x_max-x_min)\n",
        "\n",
        "#This loop displays all of the datapoints.\n",
        "for i in range(X.shape[0]):\n",
        "  # Replace the data points with their respective cluster value\n",
        "  # (ex. 0) and is color codded with a colormap (plt.cm.spectral)\n",
        "  plt.text(X[i,0],X[i,1], str(y[i]),\n",
        "           color=plt.cm.nipy_spectral(hac.labels_[i] / 10.),\n",
        "           fontdict={'weight':'bold','size':9})\n",
        "\n",
        "\n",
        "#Remove the x ticks, y ticks, x and y axis\n",
        "plt.xticks([])\n",
        "plt.yticks([])\n",
        "#plt.axis('off')\n",
        "\n",
        "#Display the plot of the original data before clustering\n",
        "plt.scatter(X[:,0], X[:,1], marker='.')\n",
        "#Display the plot\n",
        "plt.show()"
      ],
      "execution_count": 14,
      "outputs": [
        {
          "output_type": "display_data",
          "data": {
            "image/png": "[encoded data removed]",
            "text/plain": [
              "<Figure size 432x288 with 1 Axes>"
            ]
          },
          "metadata": {
            "tags": []
          }
        }
      ]
    },
    {
      "cell_type": "code",
      "metadata": {
        "colab": {
          "base_uri": "https://localhost:8080/"
        },
        "id": "_CtQCH7BM9YX",
        "outputId": "e8afc7bf-3d7d-4e5e-faa2-ac17d56a8d75"
      },
      "source": [
        "dist_matrix = distance_matrix(X,X)\n",
        "dist_matrix"
      ],
      "execution_count": 15,
      "outputs": [
        {
          "output_type": "execute_result",
          "data": {
            "text/plain": [
              "array([[0.        , 0.7559358 , 0.61165256, ..., 0.80436987, 0.04704908,\n",
              "        0.80783009],\n",
              "       [0.7559358 , 0.        , 0.60946589, ..., 0.60829618, 0.716695  ,\n",
              "        0.63320407],\n",
              "       [0.61165256, 0.60946589, 0.        , ..., 1.07125307, 0.60862664,\n",
              "        1.08885481],\n",
              "       ...,\n",
              "       [0.80436987, 0.60829618, 1.07125307, ..., 0.        , 0.75865459,\n",
              "        0.0265236 ],\n",
              "       [0.04704908, 0.716695  , 0.60862664, ..., 0.75865459, 0.        ,\n",
              "        0.76251366],\n",
              "       [0.80783009, 0.63320407, 1.08885481, ..., 0.0265236 , 0.76251366,\n",
              "        0.        ]])"
            ]
          },
          "metadata": {
            "tags": []
          },
          "execution_count": 15
        }
      ]
    },
    {
      "cell_type": "code",
      "metadata": {
        "colab": {
          "base_uri": "https://localhost:8080/",
          "height": 320
        },
        "id": "m0-igCJ7M-XZ",
        "outputId": "ddb4ec2c-3a35-4c04-dcb1-4dfc11669fa7"
      },
      "source": [
        "Z = hierarchy.linkage(dist_matrix, method=linkage_method)\n",
        "dendro = hierarchy.dendrogram(Z)"
      ],
      "execution_count": 16,
      "outputs": [
        {
          "output_type": "stream",
          "text": [
            "/usr/local/lib/python3.7/dist-packages/ipykernel_launcher.py:1: ClusterWarning: scipy.cluster: The symmetric non-negative hollow observation matrix looks suspiciously like an uncondensed distance matrix\n",
            "  \"\"\"Entry point for launching an IPython kernel.\n"
          ],
          "name": "stderr"
        },
        {
          "output_type": "display_data",
          "data": {
            "image/png": "[encoded data removed]",
            "text/plain": [
              "<Figure size 432x288 with 1 Axes>"
            ]
          },
          "metadata": {
            "tags": [],
            "needs_background": "light"
          }
        }
      ]
    },
    {
      "cell_type": "markdown",
      "metadata": {
        "id": "iJmqC9L4WUNJ"
      },
      "source": [
        "**Answer:**\n",
        "\n",
        "As we can see, by changing the link type there are some changes. However these changes can only be visualized in the dendrogram. Where the distances for the 'single' linkage are much shorter compared to the 'complete' and 'average' linkage. But between the 'average' and 'complete' linkage the distances also undergo changes, e.g. the distances for the 'complete' linkage are larger up to level 5, while for the 'average' linkage they are just above level 4.\n"
      ]
    }
  ]
}