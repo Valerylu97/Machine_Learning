{
  "nbformat": 4,
  "nbformat_minor": 0,
  "metadata": {
    "colab": {
      "name": "Machine Learning Laboratory.ipynb",
      "provenance": [],
      "collapsed_sections": [],
      "authorship_tag": "ABX9TyPpXwYjWRC5ePcMywnDVZwR",
      "include_colab_link": true
    },
    "kernelspec": {
      "name": "python3",
      "display_name": "Python 3"
    },
    "language_info": {
      "name": "python"
    }
  },
  "cells": [
    {
      "cell_type": "markdown",
      "metadata": {
        "id": "view-in-github",
        "colab_type": "text"
      },
      "source": [
        "<a href=\"https://colab.research.google.com/github/Valerylu97/Machine_Learning/blob/main/Machine_Learning_Laboratory.ipynb\" target=\"_parent\"><img src=\"https://colab.research.google.com/assets/colab-badge.svg\" alt=\"Open In Colab\"/></a>"
      ]
    },
    {
      "cell_type": "markdown",
      "metadata": {
        "id": "9Uo9vp9x5jaD"
      },
      "source": [
        "#Import Libraries"
      ]
    },
    {
      "cell_type": "code",
      "metadata": {
        "id": "HE7cqebg5oAF"
      },
      "source": [
        "import pandas as pd\n",
        "from sklearn.cluster import KMeans\n",
        "from sklearn.preprocessing import MinMaxScaler\n",
        "from matplotlib import pyplot as plt"
      ],
      "execution_count": 1,
      "outputs": []
    },
    {
      "cell_type": "markdown",
      "metadata": {
        "id": "9kbfzGP1Fz0W"
      },
      "source": [
        "#Load data\n",
        "En el repositorio de github eh subido el archivo csv con los datos.\n",
        "\n",
        "Podemos usar el archivo presente en el repositorio usando las siguientes líneas de código.\n",
        "\n",
        "\n",
        "```\n",
        "# !git clone https://github.com/Valerylu97/Machine_Learning.git\n",
        "\n",
        "df = pd.read_csv('Machine_Learning/data.csv')\n",
        "```\n",
        "\n"
      ]
    },
    {
      "cell_type": "markdown",
      "metadata": {
        "id": "rXMTckbR7dXz"
      },
      "source": [
        "La siguiente línea de código nos permite leer los datos desde el repositorio del profesor Erick"
      ]
    },
    {
      "cell_type": "code",
      "metadata": {
        "id": "fg9ATHHu2a_E"
      },
      "source": [
        "df = pd.read_csv('https://raw.githubusercontent.com/erickedu85/dataset/master/age_income.csv')"
      ],
      "execution_count": 2,
      "outputs": []
    },
    {
      "cell_type": "markdown",
      "metadata": {
        "id": "yLGRsKYO7qrl"
      },
      "source": [
        "# Data Information"
      ]
    },
    {
      "cell_type": "markdown",
      "metadata": {
        "id": "IahF34BG75gE"
      },
      "source": [
        "**Información sobre la estructura y tipo de datos del set**"
      ]
    },
    {
      "cell_type": "code",
      "metadata": {
        "id": "iKvv8HdZ7qDG",
        "colab": {
          "base_uri": "https://localhost:8080/"
        },
        "outputId": "b67738a1-9049-45af-ffa1-8c03f2b47c7c"
      },
      "source": [
        "df.info()"
      ],
      "execution_count": 3,
      "outputs": [
        {
          "output_type": "stream",
          "text": [
            "<class 'pandas.core.frame.DataFrame'>\n",
            "RangeIndex: 150 entries, 0 to 149\n",
            "Data columns (total 2 columns):\n",
            " #   Column            Non-Null Count  Dtype\n",
            "---  ------            --------------  -----\n",
            " 0   age               150 non-null    int64\n",
            " 1   annual_income($)  150 non-null    int64\n",
            "dtypes: int64(2)\n",
            "memory usage: 2.5 KB\n"
          ],
          "name": "stdout"
        }
      ]
    },
    {
      "cell_type": "markdown",
      "metadata": {
        "id": "j7dnO0hP-vLh"
      },
      "source": [
        "**Visualizar los 5 primeros datos**"
      ]
    },
    {
      "cell_type": "code",
      "metadata": {
        "id": "PMe_YIX2-ih_",
        "colab": {
          "base_uri": "https://localhost:8080/",
          "height": 203
        },
        "outputId": "a200c31c-7a9f-4b58-edbf-d552dee5ff7c"
      },
      "source": [
        "df[:5]"
      ],
      "execution_count": 5,
      "outputs": [
        {
          "output_type": "execute_result",
          "data": {
            "text/html": [
              "<div>\n",
              "<style scoped>\n",
              "    .dataframe tbody tr th:only-of-type {\n",
              "        vertical-align: middle;\n",
              "    }\n",
              "\n",
              "    .dataframe tbody tr th {\n",
              "        vertical-align: top;\n",
              "    }\n",
              "\n",
              "    .dataframe thead th {\n",
              "        text-align: right;\n",
              "    }\n",
              "</style>\n",
              "<table border=\"1\" class=\"dataframe\">\n",
              "  <thead>\n",
              "    <tr style=\"text-align: right;\">\n",
              "      <th></th>\n",
              "      <th>age</th>\n",
              "      <th>annual_income($)</th>\n",
              "    </tr>\n",
              "  </thead>\n",
              "  <tbody>\n",
              "    <tr>\n",
              "      <th>0</th>\n",
              "      <td>17</td>\n",
              "      <td>17123</td>\n",
              "    </tr>\n",
              "    <tr>\n",
              "      <th>1</th>\n",
              "      <td>17</td>\n",
              "      <td>18375</td>\n",
              "    </tr>\n",
              "    <tr>\n",
              "      <th>2</th>\n",
              "      <td>16</td>\n",
              "      <td>18557</td>\n",
              "    </tr>\n",
              "    <tr>\n",
              "      <th>3</th>\n",
              "      <td>23</td>\n",
              "      <td>17721</td>\n",
              "    </tr>\n",
              "    <tr>\n",
              "      <th>4</th>\n",
              "      <td>22</td>\n",
              "      <td>17291</td>\n",
              "    </tr>\n",
              "  </tbody>\n",
              "</table>\n",
              "</div>"
            ],
            "text/plain": [
              "   age  annual_income($)\n",
              "0   17             17123\n",
              "1   17             18375\n",
              "2   16             18557\n",
              "3   23             17721\n",
              "4   22             17291"
            ]
          },
          "metadata": {
            "tags": []
          },
          "execution_count": 5
        }
      ]
    },
    {
      "cell_type": "markdown",
      "metadata": {
        "id": "l7JRf8-3-3Rw"
      },
      "source": [
        "#Visualización de los datos"
      ]
    },
    {
      "cell_type": "code",
      "metadata": {
        "id": "h0tPUIE9-2CS",
        "colab": {
          "base_uri": "https://localhost:8080/",
          "height": 300
        },
        "outputId": "bc18bd1f-1db7-433a-93fb-34af8cd7440f"
      },
      "source": [
        "plt.scatter(df['age'], df['annual_income($)'])\n",
        "plt.xlabel('Age')\n",
        "plt.ylabel('Annual Income ($)')"
      ],
      "execution_count": 6,
      "outputs": [
        {
          "output_type": "execute_result",
          "data": {
            "text/plain": [
              "Text(0, 0.5, 'Annual Income ($)')"
            ]
          },
          "metadata": {
            "tags": []
          },
          "execution_count": 6
        },
        {
          "output_type": "display_data",
          "data": {
            "image/png": "[encoded data removed]",
            "text/plain": [
              "<Figure size 432x288 with 1 Axes>"
            ]
          },
          "metadata": {
            "tags": [],
            "needs_background": "light"
          }
        }
      ]
    },
    {
      "cell_type": "markdown",
      "metadata": {
        "id": "VBr1Pk_7_upF"
      },
      "source": [
        "#Question 1:\n",
        "**Why using a scatterplot to visualize this data set?**"
      ]
    },
    {
      "cell_type": "markdown",
      "metadata": {
        "id": "aCFcr14U_29L"
      },
      "source": [
        "**Answer:**\n",
        "\n",
        "In this case we use a scatter plot because it allows us to create scatter plots in which the properties of each individual point can be individually controlled or assigned to the data. Allowing us to visualize the data in a better way and we could even visualize overlapping data."
      ]
    },
    {
      "cell_type": "code",
      "metadata": {
        "id": "rsepvAoTDcAz",
        "colab": {
          "base_uri": "https://localhost:8080/",
          "height": 300
        },
        "outputId": "30ae3396-3234-452b-c2ce-7f800a94598f"
      },
      "source": [
        "import numpy as np\n",
        "\n",
        "rng = np.random.RandomState(0)\n",
        "colors = rng.rand(150)\n",
        "\n",
        "plt.scatter(df['age'], df['annual_income($)'], c=colors, s=20)\n",
        "plt.xlabel('Age')\n",
        "plt.ylabel('Annual Income ($)')"
      ],
      "execution_count": 7,
      "outputs": [
        {
          "output_type": "execute_result",
          "data": {
            "text/plain": [
              "Text(0, 0.5, 'Annual Income ($)')"
            ]
          },
          "metadata": {
            "tags": []
          },
          "execution_count": 7
        },
        {
          "output_type": "display_data",
          "data": {
            "image/png": "[encoded data removed]",
            "text/plain": [
              "<Figure size 432x288 with 1 Axes>"
            ]
          },
          "metadata": {
            "tags": [],
            "needs_background": "light"
          }
        }
      ]
    },
    {
      "cell_type": "markdown",
      "metadata": {
        "id": "oGc30xvTEcGi"
      },
      "source": [
        "# Obtain the k value"
      ]
    },
    {
      "cell_type": "code",
      "metadata": {
        "id": "Csq8rUdgEm1g"
      },
      "source": [
        "sse = []\n",
        "k_range = range(1,11)\n",
        "for k in k_range:\n",
        "  km = KMeans(n_clusters=k)\n",
        "  km.fit(df[['age', 'annual_income($)']])\n",
        "  sse.append(km.inertia_)"
      ],
      "execution_count": 8,
      "outputs": []
    },
    {
      "cell_type": "markdown",
      "metadata": {
        "id": "eaWjG8uQFE6F"
      },
      "source": [
        "# Visualize the Elbow plot"
      ]
    },
    {
      "cell_type": "code",
      "metadata": {
        "id": "qbqY8qAQFH9r",
        "colab": {
          "base_uri": "https://localhost:8080/",
          "height": 307
        },
        "outputId": "ac5bf764-b7f0-44ff-9202-cb2a2b3db9a5"
      },
      "source": [
        "plt.plot(k_range, sse)\n",
        "plt.xlabel('K')\n",
        "plt.ylabel('Sum of square error')"
      ],
      "execution_count": 9,
      "outputs": [
        {
          "output_type": "execute_result",
          "data": {
            "text/plain": [
              "Text(0, 0.5, 'Sum of square error')"
            ]
          },
          "metadata": {
            "tags": []
          },
          "execution_count": 9
        },
        {
          "output_type": "display_data",
          "data": {
            "image/png": "[encoded data removed]",
            "text/plain": [
              "<Figure size 432x288 with 1 Axes>"
            ]
          },
          "metadata": {
            "tags": [],
            "needs_background": "light"
          }
        }
      ]
    },
    {
      "cell_type": "markdown",
      "metadata": {
        "id": "8Ns1KeiCG0CQ"
      },
      "source": [
        "#Question 2:\n",
        "**What is the value of 'K', Why did you choose it?**"
      ]
    },
    {
      "cell_type": "markdown",
      "metadata": {
        "id": "nAwwFtxuHBQQ"
      },
      "source": [
        "The k optimum value is $K=3$, because the value of sse drastically change forming a elbow like we can see in the figure above.\n",
        "\n",
        "To verify the value I have used the following code"
      ]
    },
    {
      "cell_type": "code",
      "metadata": {
        "colab": {
          "base_uri": "https://localhost:8080/",
          "height": 393
        },
        "id": "hdU7pvqhHkbI",
        "outputId": "fe2f7cb3-22f4-4ac7-906b-c4c6f93066d6"
      },
      "source": [
        "from yellowbrick.cluster import KElbowVisualizer\n",
        "\n",
        "# Instantiate the clustering model and visualizer\n",
        "model = KMeans()\n",
        "visualizer = KElbowVisualizer(model, k=(1,10))\n",
        "\n",
        "visualizer.fit(df)        # Fit the data to the visualizer\n",
        "visualizer.show()        # Finalize and render the figure"
      ],
      "execution_count": 25,
      "outputs": [
        {
          "output_type": "display_data",
          "data": {
            "image/png": "[encoded data removed]",
            "text/plain": [
              "<Figure size 576x396 with 2 Axes>"
            ]
          },
          "metadata": {
            "tags": []
          }
        },
        {
          "output_type": "execute_result",
          "data": {
            "text/plain": [
              "<matplotlib.axes._subplots.AxesSubplot at 0x7f45e972c850>"
            ]
          },
          "metadata": {
            "tags": []
          },
          "execution_count": 25
        }
      ]
    },
    {
      "cell_type": "markdown",
      "metadata": {
        "id": "HKZNGvhtOXG7"
      },
      "source": [
        "# Clustering"
      ]
    },
    {
      "cell_type": "code",
      "metadata": {
        "colab": {
          "base_uri": "https://localhost:8080/"
        },
        "id": "KdgxonHyOW8w",
        "outputId": "3032a390-4969-4f53-a90e-11e77e7a840f"
      },
      "source": [
        "k = 3\n",
        "clustering = KMeans(n_clusters=k)\n",
        "clusters = clustering.fit_predict(df[['age', 'annual_income($)']])\n",
        "clusters"
      ],
      "execution_count": 27,
      "outputs": [
        {
          "output_type": "execute_result",
          "data": {
            "text/plain": [
              "array([0, 0, 0, 0, 0, 0, 0, 0, 0, 0, 0, 0, 0, 0, 0, 0, 0, 0, 0, 0, 0, 0,\n",
              "       0, 0, 0, 0, 0, 0, 0, 0, 2, 2, 2, 2, 2, 2, 2, 2, 2, 2, 2, 2, 2, 2,\n",
              "       2, 2, 2, 2, 2, 2, 2, 2, 2, 2, 2, 2, 2, 2, 2, 2, 1, 1, 1, 1, 1, 1,\n",
              "       1, 1, 1, 1, 1, 1, 1, 1, 1, 1, 1, 1, 1, 1, 1, 1, 1, 1, 1, 1, 1, 1,\n",
              "       1, 1, 1, 1, 1, 1, 1, 1, 1, 1, 1, 1, 1, 1, 1, 1, 1, 1, 1, 1, 1, 1,\n",
              "       1, 1, 1, 1, 1, 1, 1, 1, 1, 1, 2, 2, 2, 2, 2, 2, 2, 2, 2, 2, 2, 2,\n",
              "       2, 2, 2, 2, 2, 2, 2, 2, 2, 2, 2, 2, 2, 2, 2, 2, 2, 2], dtype=int32)"
            ]
          },
          "metadata": {
            "tags": []
          },
          "execution_count": 27
        }
      ]
    },
    {
      "cell_type": "markdown",
      "metadata": {
        "id": "ML1q3sCUOqx_"
      },
      "source": [
        "#Adding the clusters to the data set"
      ]
    },
    {
      "cell_type": "code",
      "metadata": {
        "colab": {
          "base_uri": "https://localhost:8080/"
        },
        "id": "uVlCkxiVNhhK",
        "outputId": "b013ff6c-cd95-4aaa-d022-2f5a8be1dc07"
      },
      "source": [
        "df['cluster'] = clusters\n",
        "df.head"
      ],
      "execution_count": 28,
      "outputs": [
        {
          "output_type": "execute_result",
          "data": {
            "text/plain": [
              "<bound method NDFrame.head of      age  annual_income($)  cluster\n",
              "0     17             17123        0\n",
              "1     17             18375        0\n",
              "2     16             18557        0\n",
              "3     23             17721        0\n",
              "4     22             17291        0\n",
              "..   ...               ...      ...\n",
              "145   66             21653        2\n",
              "146   75             20631        2\n",
              "147   74             20572        2\n",
              "148   69             21452        2\n",
              "149   73             20754        2\n",
              "\n",
              "[150 rows x 3 columns]>"
            ]
          },
          "metadata": {
            "tags": []
          },
          "execution_count": 28
        }
      ]
    },
    {
      "cell_type": "markdown",
      "metadata": {
        "id": "EYQiZp7dOzmX"
      },
      "source": [
        "#Drawing the clusters"
      ]
    },
    {
      "cell_type": "code",
      "metadata": {
        "colab": {
          "base_uri": "https://localhost:8080/",
          "height": 398
        },
        "id": "T5b7WOt_Oy0s",
        "outputId": "5ea5fc74-d0df-4380-d10c-0878ae6c8f23"
      },
      "source": [
        "df0=df[df.cluster==0]\n",
        "df1=df[df.cluster==1]\n",
        "df2=df[df.cluster==2]\n",
        "plt.scatter(df0['age'], df0['annual_income($)'], color='#e41a1c')\n",
        "plt.scatter(df1['age'], df1['annual_income($)'], color='#377eb8')\n",
        "plt.scatter(df2['age'], df2['annual_income($)'], color='#4daf4a')\n",
        "plt.xlabel('age')\n",
        "plt.ylabel('annual_income($)')\n",
        "plt.legend()"
      ],
      "execution_count": 29,
      "outputs": [
        {
          "output_type": "stream",
          "text": [
            "No handles with labels found to put in legend.\n"
          ],
          "name": "stderr"
        },
        {
          "output_type": "execute_result",
          "data": {
            "text/plain": [
              "<matplotlib.legend.Legend at 0x7f45e4e63c10>"
            ]
          },
          "metadata": {
            "tags": []
          },
          "execution_count": 29
        },
        {
          "output_type": "display_data",
          "data": {
            "image/png": "[encoded data removed]",
            "text/plain": [
              "<Figure size 576x396 with 1 Axes>"
            ]
          },
          "metadata": {
            "tags": []
          }
        }
      ]
    },
    {
      "cell_type": "markdown",
      "metadata": {
        "id": "p5pB6CqoPfnF"
      },
      "source": [
        "#Question 3:\n",
        "**What do you think about the clusters, they make sense?**"
      ]
    },
    {
      "cell_type": "markdown",
      "metadata": {
        "id": "88oNF9oGPqgw"
      },
      "source": [
        "Yes. They make sense, because we can observe there are 3 clusters one of this has 2 different age groups but the relation with their annual incomes is correct."
      ]
    },
    {
      "cell_type": "markdown",
      "metadata": {
        "id": "sS7PDFtiRDGi"
      },
      "source": [
        "#Normalize the data set"
      ]
    },
    {
      "cell_type": "code",
      "metadata": {
        "id": "mhfQ901yRCr2"
      },
      "source": [
        "scaler = MinMaxScaler()\n",
        "\n",
        "scaler.fit(df[['annual_income($)']])\n",
        "df['norm_annual_incomes($)'] = scaler.transform(df[['annual_income($)']])\n",
        "\n",
        "scaler.fit(df[['age']])\n",
        "df['norm_age'] = scaler.transform(df[['age']])"
      ],
      "execution_count": 30,
      "outputs": []
    },
    {
      "cell_type": "markdown",
      "metadata": {
        "id": "m259rhqNRk-4"
      },
      "source": [
        "#Question 4\n",
        "**What does the MinMaxScaler function?**"
      ]
    },
    {
      "cell_type": "markdown",
      "metadata": {
        "id": "Cpx0IczuRrnY"
      },
      "source": [
        "Yes. They make sense, because we can observe that there are 3 clusters one of them has 2 different age groups but the relationship with their annual income is correct. As we can see in the coding line below, the maximum value in the normalization is 1 and the minimum is 0."
      ]
    },
    {
      "cell_type": "code",
      "metadata": {
        "colab": {
          "base_uri": "https://localhost:8080/",
          "height": 295
        },
        "id": "zB5OwNxEUwNX",
        "outputId": "695a6fff-5f13-4c39-b016-578931d2d991"
      },
      "source": [
        "df.describe()"
      ],
      "execution_count": 34,
      "outputs": [
        {
          "output_type": "execute_result",
          "data": {
            "text/html": [
              "<div>\n",
              "<style scoped>\n",
              "    .dataframe tbody tr th:only-of-type {\n",
              "        vertical-align: middle;\n",
              "    }\n",
              "\n",
              "    .dataframe tbody tr th {\n",
              "        vertical-align: top;\n",
              "    }\n",
              "\n",
              "    .dataframe thead th {\n",
              "        text-align: right;\n",
              "    }\n",
              "</style>\n",
              "<table border=\"1\" class=\"dataframe\">\n",
              "  <thead>\n",
              "    <tr style=\"text-align: right;\">\n",
              "      <th></th>\n",
              "      <th>age</th>\n",
              "      <th>annual_income($)</th>\n",
              "      <th>cluster</th>\n",
              "      <th>norm_annual_incomes($)</th>\n",
              "      <th>norm_age</th>\n",
              "    </tr>\n",
              "  </thead>\n",
              "  <tbody>\n",
              "    <tr>\n",
              "      <th>count</th>\n",
              "      <td>150.000000</td>\n",
              "      <td>150.000000</td>\n",
              "      <td>150.000000</td>\n",
              "      <td>150.000000</td>\n",
              "      <td>150.000000</td>\n",
              "    </tr>\n",
              "    <tr>\n",
              "      <th>mean</th>\n",
              "      <td>43.793333</td>\n",
              "      <td>22067.033333</td>\n",
              "      <td>1.200000</td>\n",
              "      <td>0.476381</td>\n",
              "      <td>0.471073</td>\n",
              "    </tr>\n",
              "    <tr>\n",
              "      <th>std</th>\n",
              "      <td>18.281283</td>\n",
              "      <td>2484.280387</td>\n",
              "      <td>0.750838</td>\n",
              "      <td>0.238552</td>\n",
              "      <td>0.309852</td>\n",
              "    </tr>\n",
              "    <tr>\n",
              "      <th>min</th>\n",
              "      <td>16.000000</td>\n",
              "      <td>17106.000000</td>\n",
              "      <td>0.000000</td>\n",
              "      <td>0.000000</td>\n",
              "      <td>0.000000</td>\n",
              "    </tr>\n",
              "    <tr>\n",
              "      <th>25%</th>\n",
              "      <td>28.000000</td>\n",
              "      <td>20647.250000</td>\n",
              "      <td>1.000000</td>\n",
              "      <td>0.340047</td>\n",
              "      <td>0.203390</td>\n",
              "    </tr>\n",
              "    <tr>\n",
              "      <th>50%</th>\n",
              "      <td>43.500000</td>\n",
              "      <td>21821.000000</td>\n",
              "      <td>1.000000</td>\n",
              "      <td>0.452756</td>\n",
              "      <td>0.466102</td>\n",
              "    </tr>\n",
              "    <tr>\n",
              "      <th>75%</th>\n",
              "      <td>58.500000</td>\n",
              "      <td>24079.750000</td>\n",
              "      <td>2.000000</td>\n",
              "      <td>0.669651</td>\n",
              "      <td>0.720339</td>\n",
              "    </tr>\n",
              "    <tr>\n",
              "      <th>max</th>\n",
              "      <td>75.000000</td>\n",
              "      <td>27520.000000</td>\n",
              "      <td>2.000000</td>\n",
              "      <td>1.000000</td>\n",
              "      <td>1.000000</td>\n",
              "    </tr>\n",
              "  </tbody>\n",
              "</table>\n",
              "</div>"
            ],
            "text/plain": [
              "              age  annual_income($)  ...  norm_annual_incomes($)    norm_age\n",
              "count  150.000000        150.000000  ...              150.000000  150.000000\n",
              "mean    43.793333      22067.033333  ...                0.476381    0.471073\n",
              "std     18.281283       2484.280387  ...                0.238552    0.309852\n",
              "min     16.000000      17106.000000  ...                0.000000    0.000000\n",
              "25%     28.000000      20647.250000  ...                0.340047    0.203390\n",
              "50%     43.500000      21821.000000  ...                0.452756    0.466102\n",
              "75%     58.500000      24079.750000  ...                0.669651    0.720339\n",
              "max     75.000000      27520.000000  ...                1.000000    1.000000\n",
              "\n",
              "[8 rows x 5 columns]"
            ]
          },
          "metadata": {
            "tags": []
          },
          "execution_count": 34
        }
      ]
    },
    {
      "cell_type": "markdown",
      "metadata": {
        "id": "SPvAnOj-Uznv"
      },
      "source": [
        "#Obtain the k value from the normalized values"
      ]
    },
    {
      "cell_type": "code",
      "metadata": {
        "id": "YeY_6LX6U5mX"
      },
      "source": [
        "norm_sse = []\n",
        "k_range = range(1,11)\n",
        "for k in k_range:\n",
        "  km = KMeans(n_clusters=k)\n",
        "  km.fit(df[['norm_age', 'norm_annual_incomes($)']])\n",
        "  norm_sse.append(km.inertia_)"
      ],
      "execution_count": 36,
      "outputs": []
    },
    {
      "cell_type": "markdown",
      "metadata": {
        "id": "8FOnlqXOVRx7"
      },
      "source": [
        "#Visualize the Elbow plt form the normalized values"
      ]
    },
    {
      "cell_type": "code",
      "metadata": {
        "colab": {
          "base_uri": "https://localhost:8080/",
          "height": 378
        },
        "id": "UuV-TVuzVVQS",
        "outputId": "cccb9f9c-2f41-4edc-d82d-039a416aa2ce"
      },
      "source": [
        "plt.plot(k_range, norm_sse)\n",
        "plt.xlabel('K')\n",
        "plt.ylabel('Sum of squared error')"
      ],
      "execution_count": 37,
      "outputs": [
        {
          "output_type": "execute_result",
          "data": {
            "text/plain": [
              "Text(0, 0.5, 'Sum of squared error')"
            ]
          },
          "metadata": {
            "tags": []
          },
          "execution_count": 37
        },
        {
          "output_type": "display_data",
          "data": {
            "image/png": "[encoded data removed]",
            "text/plain": [
              "<Figure size 576x396 with 1 Axes>"
            ]
          },
          "metadata": {
            "tags": []
          }
        }
      ]
    },
    {
      "cell_type": "markdown",
      "metadata": {
        "id": "7OpTIXSpVxbg"
      },
      "source": [
        "#Clustering normalized values"
      ]
    },
    {
      "cell_type": "code",
      "metadata": {
        "colab": {
          "base_uri": "https://localhost:8080/"
        },
        "id": "iHkGylivV1Qa",
        "outputId": "bee9ff72-9e13-4b0b-ba1d-a526e6fabc7a"
      },
      "source": [
        "k=4\n",
        "clustering = KMeans(n_clusters=k)\n",
        "norm_cluster = clustering.fit_predict(df[['norm_annual_incomes($)', 'norm_age']])\n",
        "norm_cluster"
      ],
      "execution_count": 40,
      "outputs": [
        {
          "output_type": "execute_result",
          "data": {
            "text/plain": [
              "array([3, 3, 3, 3, 3, 3, 3, 3, 3, 3, 3, 3, 3, 3, 3, 3, 3, 3, 3, 3, 3, 3,\n",
              "       3, 3, 3, 3, 3, 3, 3, 3, 0, 0, 0, 0, 0, 0, 0, 0, 0, 0, 0, 0, 0, 0,\n",
              "       0, 0, 0, 0, 0, 0, 0, 0, 0, 0, 0, 0, 0, 0, 0, 0, 1, 1, 1, 1, 1, 1,\n",
              "       1, 1, 1, 1, 1, 1, 1, 1, 1, 1, 1, 1, 1, 1, 1, 1, 1, 1, 1, 1, 1, 1,\n",
              "       1, 1, 1, 1, 1, 1, 1, 2, 1, 1, 1, 1, 1, 1, 1, 1, 2, 1, 1, 1, 1, 2,\n",
              "       2, 1, 1, 1, 1, 1, 1, 1, 1, 1, 2, 2, 2, 2, 2, 2, 2, 2, 2, 2, 2, 2,\n",
              "       2, 2, 2, 2, 2, 2, 2, 2, 2, 2, 2, 2, 2, 2, 2, 2, 2, 2], dtype=int32)"
            ]
          },
          "metadata": {
            "tags": []
          },
          "execution_count": 40
        }
      ]
    },
    {
      "cell_type": "markdown",
      "metadata": {
        "id": "m2f1ocC3VhMa"
      },
      "source": [
        "#Adding the clustering to the data set"
      ]
    },
    {
      "cell_type": "code",
      "metadata": {
        "colab": {
          "base_uri": "https://localhost:8080/",
          "height": 203
        },
        "id": "wg514s1ZVkr-",
        "outputId": "63ade814-10bb-4dce-bef6-03f7a586a8e5"
      },
      "source": [
        "df['norm_cluster'] = norm_cluster\n",
        "df.head()"
      ],
      "execution_count": 41,
      "outputs": [
        {
          "output_type": "execute_result",
          "data": {
            "text/html": [
              "<div>\n",
              "<style scoped>\n",
              "    .dataframe tbody tr th:only-of-type {\n",
              "        vertical-align: middle;\n",
              "    }\n",
              "\n",
              "    .dataframe tbody tr th {\n",
              "        vertical-align: top;\n",
              "    }\n",
              "\n",
              "    .dataframe thead th {\n",
              "        text-align: right;\n",
              "    }\n",
              "</style>\n",
              "<table border=\"1\" class=\"dataframe\">\n",
              "  <thead>\n",
              "    <tr style=\"text-align: right;\">\n",
              "      <th></th>\n",
              "      <th>age</th>\n",
              "      <th>annual_income($)</th>\n",
              "      <th>cluster</th>\n",
              "      <th>norm_annual_incomes($)</th>\n",
              "      <th>norm_age</th>\n",
              "      <th>norm_cluster</th>\n",
              "    </tr>\n",
              "  </thead>\n",
              "  <tbody>\n",
              "    <tr>\n",
              "      <th>0</th>\n",
              "      <td>17</td>\n",
              "      <td>17123</td>\n",
              "      <td>0</td>\n",
              "      <td>0.001632</td>\n",
              "      <td>0.016949</td>\n",
              "      <td>3</td>\n",
              "    </tr>\n",
              "    <tr>\n",
              "      <th>1</th>\n",
              "      <td>17</td>\n",
              "      <td>18375</td>\n",
              "      <td>0</td>\n",
              "      <td>0.121855</td>\n",
              "      <td>0.016949</td>\n",
              "      <td>3</td>\n",
              "    </tr>\n",
              "    <tr>\n",
              "      <th>2</th>\n",
              "      <td>16</td>\n",
              "      <td>18557</td>\n",
              "      <td>0</td>\n",
              "      <td>0.139332</td>\n",
              "      <td>0.000000</td>\n",
              "      <td>3</td>\n",
              "    </tr>\n",
              "    <tr>\n",
              "      <th>3</th>\n",
              "      <td>23</td>\n",
              "      <td>17721</td>\n",
              "      <td>0</td>\n",
              "      <td>0.059055</td>\n",
              "      <td>0.118644</td>\n",
              "      <td>3</td>\n",
              "    </tr>\n",
              "    <tr>\n",
              "      <th>4</th>\n",
              "      <td>22</td>\n",
              "      <td>17291</td>\n",
              "      <td>0</td>\n",
              "      <td>0.017765</td>\n",
              "      <td>0.101695</td>\n",
              "      <td>3</td>\n",
              "    </tr>\n",
              "  </tbody>\n",
              "</table>\n",
              "</div>"
            ],
            "text/plain": [
              "   age  annual_income($)  ...  norm_age  norm_cluster\n",
              "0   17             17123  ...  0.016949             3\n",
              "1   17             18375  ...  0.016949             3\n",
              "2   16             18557  ...  0.000000             3\n",
              "3   23             17721  ...  0.118644             3\n",
              "4   22             17291  ...  0.101695             3\n",
              "\n",
              "[5 rows x 6 columns]"
            ]
          },
          "metadata": {
            "tags": []
          },
          "execution_count": 41
        }
      ]
    },
    {
      "cell_type": "markdown",
      "metadata": {
        "id": "FKPMSrtLWMzs"
      },
      "source": [
        "#Visualize the clusters"
      ]
    },
    {
      "cell_type": "code",
      "metadata": {
        "colab": {
          "base_uri": "https://localhost:8080/",
          "height": 394
        },
        "id": "mTqPTkx9WPEB",
        "outputId": "1f78ef6c-8312-42fe-9f4c-d7a5a5f87d27"
      },
      "source": [
        "df0=df[df.cluster==0]\n",
        "df1=df[df.cluster==1]\n",
        "df2=df[df.cluster==2]\n",
        "df3=df[df.cluster==3]\n",
        "plt.scatter(df0['norm_age'], df0['norm_annual_incomes($)'], color='#e41a1c')\n",
        "plt.scatter(df1['norm_age'], df1['norm_annual_incomes($)'], color='#377eb8')\n",
        "plt.scatter(df2['norm_age'], df2['norm_annual_incomes($)'], color='#4daf4a')\n",
        "plt.scatter(df3['norm_age'], df3['norm_annual_incomes($)'], color='#4daf4a')\n",
        "plt.xlabel('norm_age')\n",
        "plt.ylabel('norm_annual_incomes($)')\n",
        "plt.legend()"
      ],
      "execution_count": 44,
      "outputs": [
        {
          "output_type": "stream",
          "text": [
            "No handles with labels found to put in legend.\n"
          ],
          "name": "stderr"
        },
        {
          "output_type": "execute_result",
          "data": {
            "text/plain": [
              "<matplotlib.legend.Legend at 0x7f45e356ad90>"
            ]
          },
          "metadata": {
            "tags": []
          },
          "execution_count": 44
        },
        {
          "output_type": "display_data",
          "data": {
            "image/png": "[encoded data removed]",
            "text/plain": [
              "<Figure size 576x396 with 1 Axes>"
            ]
          },
          "metadata": {
            "tags": []
          }
        }
      ]
    },
    {
      "cell_type": "markdown",
      "metadata": {
        "id": "Ce0ndmVtWqz4"
      },
      "source": [
        "#Question 5:\n",
        "**These clusters are the same before the normalization process?**"
      ]
    },
    {
      "cell_type": "markdown",
      "metadata": {
        "id": "IcrNszFfWx8b"
      },
      "source": [
        "Yes, the clusters are the same, even though we worked with a value of k=3 for the unnormalized data set and k=4 for the normalized data set, we obtained 3 clusters."
      ]
    }
  ]
}