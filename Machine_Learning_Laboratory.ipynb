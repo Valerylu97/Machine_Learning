{
  "nbformat": 4,
  "nbformat_minor": 0,
  "metadata": {
    "colab": {
      "name": "Machine Learning Laboratory.ipynb",
      "provenance": [],
      "collapsed_sections": [],
      "authorship_tag": "ABX9TyNHJbd3LLP33et7feGEh92t",
      "include_colab_link": true
    },
    "kernelspec": {
      "name": "python3",
      "display_name": "Python 3"
    },
    "language_info": {
      "name": "python"
    }
  },
  "cells": [
    {
      "cell_type": "markdown",
      "metadata": {
        "id": "view-in-github",
        "colab_type": "text"
      },
      "source": [
        "<a href=\"https://colab.research.google.com/github/Valerylu97/Machine_Learning/blob/main/Machine_Learning_Laboratory.ipynb\" target=\"_parent\"><img src=\"https://colab.research.google.com/assets/colab-badge.svg\" alt=\"Open In Colab\"/></a>"
      ]
    },
    {
      "cell_type": "markdown",
      "metadata": {
        "id": "9Uo9vp9x5jaD"
      },
      "source": [
        "#Import Libraries"
      ]
    },
    {
      "cell_type": "code",
      "metadata": {
        "id": "HE7cqebg5oAF"
      },
      "source": [
        "import pandas as pd\n",
        "from sklearn.cluster import KMeans\n",
        "from sklearn.preprocessing import MinMaxScaler\n",
        "from matplotlib import pyplot as plt"
      ],
      "execution_count": null,
      "outputs": []
    },
    {
      "cell_type": "markdown",
      "metadata": {
        "id": "9kbfzGP1Fz0W"
      },
      "source": [
        "#Load data\n",
        "En el repositorio de github eh subido el archivo csv con los datos.\n",
        "\n",
        "Podemos usar el archivo presente en el repositorio usando las siguientes líneas de código.\n",
        "\n",
        "\n",
        "```\n",
        "# !git clone https://github.com/Valerylu97/Machine_Learning.git\n",
        "\n",
        "df = pd.read_csv('Machine_Learning/data.csv')\n",
        "```\n",
        "\n"
      ]
    },
    {
      "cell_type": "markdown",
      "metadata": {
        "id": "rXMTckbR7dXz"
      },
      "source": [
        "La siguiente línea de código nos permite leer los datos desde el repositorio del profesor Erick"
      ]
    },
    {
      "cell_type": "code",
      "metadata": {
        "id": "fg9ATHHu2a_E"
      },
      "source": [
        "df = pd.read_csv('https://raw.githubusercontent.com/erickedu85/dataset/master/age_income.csv')"
      ],
      "execution_count": null,
      "outputs": []
    },
    {
      "cell_type": "markdown",
      "metadata": {
        "id": "yLGRsKYO7qrl"
      },
      "source": [
        "# Data Information"
      ]
    },
    {
      "cell_type": "markdown",
      "metadata": {
        "id": "IahF34BG75gE"
      },
      "source": [
        "**Información sobre la estructura y tipo de datos del set**"
      ]
    },
    {
      "cell_type": "code",
      "metadata": {
        "id": "iKvv8HdZ7qDG",
        "colab": {
          "base_uri": "https://localhost:8080/"
        },
        "outputId": "fd1da8e0-249d-4a7f-c425-4c57bef0647f"
      },
      "source": [
        "df.info()"
      ],
      "execution_count": null,
      "outputs": [
        {
          "output_type": "stream",
          "text": [
            "<class 'pandas.core.frame.DataFrame'>\n",
            "RangeIndex: 150 entries, 0 to 149\n",
            "Data columns (total 2 columns):\n",
            " #   Column            Non-Null Count  Dtype\n",
            "---  ------            --------------  -----\n",
            " 0   age               150 non-null    int64\n",
            " 1   annual_income($)  150 non-null    int64\n",
            "dtypes: int64(2)\n",
            "memory usage: 2.5 KB\n"
          ],
          "name": "stdout"
        }
      ]
    },
    {
      "cell_type": "markdown",
      "metadata": {
        "id": "j7dnO0hP-vLh"
      },
      "source": [
        "**Visualizar los 5 primeros datos**"
      ]
    },
    {
      "cell_type": "code",
      "metadata": {
        "id": "PMe_YIX2-ih_",
        "colab": {
          "base_uri": "https://localhost:8080/",
          "height": 204
        },
        "outputId": "d9f8dd5c-933f-4756-e653-8e71a94faaf2"
      },
      "source": [
        "df_mall[:5]"
      ],
      "execution_count": null,
      "outputs": [
        {
          "output_type": "execute_result",
          "data": {
            "text/html": [
              "<div>\n",
              "<style scoped>\n",
              "    .dataframe tbody tr th:only-of-type {\n",
              "        vertical-align: middle;\n",
              "    }\n",
              "\n",
              "    .dataframe tbody tr th {\n",
              "        vertical-align: top;\n",
              "    }\n",
              "\n",
              "    .dataframe thead th {\n",
              "        text-align: right;\n",
              "    }\n",
              "</style>\n",
              "<table border=\"1\" class=\"dataframe\">\n",
              "  <thead>\n",
              "    <tr style=\"text-align: right;\">\n",
              "      <th></th>\n",
              "      <th>age</th>\n",
              "      <th>annual_income($)</th>\n",
              "    </tr>\n",
              "  </thead>\n",
              "  <tbody>\n",
              "    <tr>\n",
              "      <th>0</th>\n",
              "      <td>17</td>\n",
              "      <td>17123</td>\n",
              "    </tr>\n",
              "    <tr>\n",
              "      <th>1</th>\n",
              "      <td>17</td>\n",
              "      <td>18375</td>\n",
              "    </tr>\n",
              "    <tr>\n",
              "      <th>2</th>\n",
              "      <td>16</td>\n",
              "      <td>18557</td>\n",
              "    </tr>\n",
              "    <tr>\n",
              "      <th>3</th>\n",
              "      <td>23</td>\n",
              "      <td>17721</td>\n",
              "    </tr>\n",
              "    <tr>\n",
              "      <th>4</th>\n",
              "      <td>22</td>\n",
              "      <td>17291</td>\n",
              "    </tr>\n",
              "  </tbody>\n",
              "</table>\n",
              "</div>"
            ],
            "text/plain": [
              "   age  annual_income($)\n",
              "0   17             17123\n",
              "1   17             18375\n",
              "2   16             18557\n",
              "3   23             17721\n",
              "4   22             17291"
            ]
          },
          "metadata": {
            "tags": []
          },
          "execution_count": 6
        }
      ]
    },
    {
      "cell_type": "markdown",
      "metadata": {
        "id": "l7JRf8-3-3Rw"
      },
      "source": [
        "#Visualización de los datos"
      ]
    },
    {
      "cell_type": "code",
      "metadata": {
        "id": "h0tPUIE9-2CS",
        "colab": {
          "base_uri": "https://localhost:8080/",
          "height": 300
        },
        "outputId": "96b564ed-0c23-4d9a-d025-c36b03653248"
      },
      "source": [
        "plt.scatter(df['age'], df['annual_income($)'])\n",
        "plt.xlabel('Age')\n",
        "plt.ylabel('Annual Income ($)')"
      ],
      "execution_count": null,
      "outputs": [
        {
          "output_type": "execute_result",
          "data": {
            "text/plain": [
              "Text(0, 0.5, 'Annual Income ($)')"
            ]
          },
          "metadata": {
            "tags": []
          },
          "execution_count": 9
        },
        {
          "output_type": "display_data",
          "data": {
            "image/png": "[encoded data removed]",
            "text/plain": [
              "<Figure size 432x288 with 1 Axes>"
            ]
          },
          "metadata": {
            "tags": [],
            "needs_background": "light"
          }
        }
      ]
    },
    {
      "cell_type": "markdown",
      "metadata": {
        "id": "VBr1Pk_7_upF"
      },
      "source": [
        "#Question 1:\n",
        "**Why using a scatterplot to visualize this data set?**"
      ]
    },
    {
      "cell_type": "markdown",
      "metadata": {
        "id": "aCFcr14U_29L"
      },
      "source": [
        "**Answer:**\n",
        "\n",
        "In this case we use a scatter plot because it allows us to create scatter plots in which the properties of each individual point can be individually controlled or assigned to the data. Allowing us to visualize the data in a better way and we could even visualize overlapping data."
      ]
    },
    {
      "cell_type": "code",
      "metadata": {
        "id": "rsepvAoTDcAz",
        "colab": {
          "base_uri": "https://localhost:8080/",
          "height": 300
        },
        "outputId": "92c4b1d9-9f1f-4659-a941-e0d7265b712d"
      },
      "source": [
        "import numpy as np\n",
        "\n",
        "rng = np.random.RandomState(0)\n",
        "colors = rng.rand(150)\n",
        "\n",
        "plt.scatter(df['age'], df['annual_income($)'], c=colors, s=20)\n",
        "plt.xlabel('Age')\n",
        "plt.ylabel('Annual Income ($)')"
      ],
      "execution_count": null,
      "outputs": [
        {
          "output_type": "execute_result",
          "data": {
            "text/plain": [
              "Text(0, 0.5, 'Annual Income ($)')"
            ]
          },
          "metadata": {
            "tags": []
          },
          "execution_count": 19
        },
        {
          "output_type": "display_data",
          "data": {
            "image/png": "[encoded data removed]",
            "text/plain": [
              "<Figure size 432x288 with 1 Axes>"
            ]
          },
          "metadata": {
            "tags": [],
            "needs_background": "light"
          }
        }
      ]
    },
    {
      "cell_type": "markdown",
      "metadata": {
        "id": "oGc30xvTEcGi"
      },
      "source": [
        "# Obtain the k value"
      ]
    },
    {
      "cell_type": "code",
      "metadata": {
        "id": "Csq8rUdgEm1g"
      },
      "source": [
        "sse = []\n",
        "k_range = range(1,11)\n",
        "for k in k_range:\n",
        "  km = KMeans(n_clusters=k)\n",
        "  km.fit(df[['age', 'annual_income($)']])\n",
        "  sse.append(km.inertia_)"
      ],
      "execution_count": null,
      "outputs": []
    },
    {
      "cell_type": "markdown",
      "metadata": {
        "id": "eaWjG8uQFE6F"
      },
      "source": [
        "# Visualize the Elbow plot"
      ]
    },
    {
      "cell_type": "code",
      "metadata": {
        "id": "qbqY8qAQFH9r",
        "colab": {
          "base_uri": "https://localhost:8080/",
          "height": 307
        },
        "outputId": "67e67899-6dc2-466c-af37-341a1abeda3d"
      },
      "source": [
        "plt.plot(k_range, sse)\n",
        "plt.xlabel('K')\n",
        "plt.ylabel('Sum of square error')"
      ],
      "execution_count": null,
      "outputs": [
        {
          "output_type": "execute_result",
          "data": {
            "text/plain": [
              "Text(0, 0.5, 'Sum of square error')"
            ]
          },
          "metadata": {
            "tags": []
          },
          "execution_count": 23
        },
        {
          "output_type": "display_data",
          "data": {
            "image/png": "[encoded data removed]",
            "text/plain": [
              "<Figure size 432x288 with 1 Axes>"
            ]
          },
          "metadata": {
            "tags": [],
            "needs_background": "light"
          }
        }
      ]
    }
  ]
}